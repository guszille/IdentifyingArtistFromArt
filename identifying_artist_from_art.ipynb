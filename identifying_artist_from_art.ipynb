{
 "cells": [
  {
   "cell_type": "markdown",
   "metadata": {},
   "source": [
    "## Identifying Artist from Art\n",
    "\n",
    "The goal of this work is build a neural network capable to analyze some painting and classify their respective artists.\n",
    "\n",
    "For that we are using the dataset [**Best Artworks of All Time**](https://www.kaggle.com/ikarus777/best-artworks-of-all-time)."
   ]
  },
  {
   "cell_type": "markdown",
   "metadata": {},
   "source": [
    "**Read Data**"
   ]
  },
  {
   "cell_type": "code",
   "execution_count": 42,
   "metadata": {},
   "outputs": [],
   "source": [
    "import pandas as pd\n",
    "import tensorflow as tf\n",
    "import matplotlib.pyplot as plt\n",
    "from tensorflow.keras import models, layers\n",
    "from tensorflow.keras.preprocessing.image import ImageDataGenerator"
   ]
  },
  {
   "cell_type": "markdown",
   "metadata": {},
   "source": [
    "#### Preprocessing"
   ]
  },
  {
   "cell_type": "code",
   "execution_count": 49,
   "metadata": {},
   "outputs": [],
   "source": [
    "# Remove umbalanced artists and take the artists that only proximate number of paintings\n",
    "artists = pd.read_csv('archive/artists.csv')\n",
    "artists = artists.sort_values(by=['paintings'], ascending=False)\n",
    "artists = artists[artists['paintings'] > 100].reset_index()\n",
    "artists = artists[artists['paintings'] < 700].reset_index()\n",
    "\n",
    "class_weights = artists.paintings.sum() / (artists.shape[0] * artists.paintings)\n",
    "\n",
    "# fix Albrect Durer name\n",
    "updated_name = \"Albrecht_Dürer\".replace(\"_\", \" \")\n",
    "artists.iloc[4, 0] = updated_name\n",
    "artists = list(artists['name'].str.replace(' ', '_').values)"
   ]
  },
  {
   "cell_type": "code",
   "execution_count": 50,
   "metadata": {},
   "outputs": [
    {
     "data": {
      "text/plain": [
       "['Pablo_Picasso',\n",
       " 'Pierre-Auguste_Renoir',\n",
       " 'Albrecht_Dürer',\n",
       " 'Paul_Gauguin',\n",
       " 'Francisco_Goya',\n",
       " 'Rembrandt',\n",
       " 'Alfred_Sisley',\n",
       " 'Titian',\n",
       " 'Marc_Chagall',\n",
       " 'Rene_Magritte',\n",
       " 'Amedeo_Modigliani',\n",
       " 'Paul_Klee',\n",
       " 'Henri_Matisse',\n",
       " 'Andy_Warhol',\n",
       " 'Mikhail_Vrubel',\n",
       " 'Sandro_Botticelli',\n",
       " 'Leonardo_da_Vinci',\n",
       " 'Peter_Paul_Rubens',\n",
       " 'Salvador_Dali',\n",
       " 'Hieronymus_Bosch',\n",
       " 'Pieter_Bruegel',\n",
       " 'Diego_Velazquez',\n",
       " 'Kazimir_Malevich',\n",
       " 'Frida_Kahlo',\n",
       " 'Giotto_di_Bondone',\n",
       " 'Gustav_Klimt',\n",
       " 'Raphael',\n",
       " 'Joan_Miro']"
      ]
     },
     "execution_count": 50,
     "metadata": {},
     "output_type": "execute_result"
    }
   ],
   "source": [
    "# Choosed artists\n",
    "artists"
   ]
  },
  {
   "cell_type": "code",
   "execution_count": 51,
   "metadata": {},
   "outputs": [
    {
     "data": {
      "text/plain": [
       "0     0.448422\n",
       "1     0.585884\n",
       "2     0.600174\n",
       "3     0.632981\n",
       "4     0.676485\n",
       "5     0.751363\n",
       "6     0.760066\n",
       "7     0.771989\n",
       "8     0.823670\n",
       "9     1.014728\n",
       "10    1.019985\n",
       "11    1.047112\n",
       "12    1.058372\n",
       "13    1.087609\n",
       "14    1.151211\n",
       "15    1.200348\n",
       "16    1.376623\n",
       "17    1.396150\n",
       "18    1.416238\n",
       "19    1.436913\n",
       "20    1.469083\n",
       "21    1.537946\n",
       "22    1.562358\n",
       "23    1.640476\n",
       "24    1.654262\n",
       "25    1.682540\n",
       "26    1.806029\n",
       "27    1.929972\n",
       "Name: paintings, dtype: float64"
      ]
     },
     "execution_count": 51,
     "metadata": {},
     "output_type": "execute_result"
    }
   ],
   "source": [
    "# Artists weights\n",
    "class_weights"
   ]
  },
  {
   "cell_type": "code",
   "execution_count": 52,
   "metadata": {},
   "outputs": [
    {
     "name": "stdout",
     "output_type": "stream",
     "text": [
      "Found 4679 images belonging to 28 classes.\n",
      "Found 505 images belonging to 28 classes.\n"
     ]
    }
   ],
   "source": [
    "# Creating the datasets.\n",
    "\n",
    "image_height = 256\n",
    "image_width = 256\n",
    "\n",
    "args = {\n",
    "    'directory': 'archive/images/images',\n",
    "    'batch_size': 32,\n",
    "    'target_size': (image_height, image_width),\n",
    "    'seed': 123,\n",
    "    'classes': artists\n",
    "}\n",
    "\n",
    "image_data_gen = ImageDataGenerator(validation_split=0.1, rescale=1./255., shear_range=5)\n",
    "train_ds = image_data_gen.flow_from_directory(**args, subset='training')\n",
    "validation_ds = image_data_gen.flow_from_directory(**args, subset='validation')"
   ]
  },
  {
   "cell_type": "code",
   "execution_count": 23,
   "metadata": {},
   "outputs": [],
   "source": [
    "# artists_df = pd.read_csv('archive/artists.csv')\n",
    "# useful_artists = list(artists_df[(artists_df['paintings'] > 100) & (artists_df['paintings'] < 700)]['name'])\n",
    "# useful_artists = [x.replace(' ', '_') for x in useful_artists]"
   ]
  },
  {
   "cell_type": "code",
   "execution_count": 27,
   "metadata": {},
   "outputs": [],
   "source": [
    "# # Visualize the data: here are the first 9 images from the training dataset.\n",
    "\n",
    "# plt.figure(figsize=(10, 10))\n",
    "\n",
    "# class_names = train_ds.class_names\n",
    "\n",
    "# for images, labels in train_ds.take(1):\n",
    "#     for i in range(9):\n",
    "#         ax = plt.subplot(3, 3, i + 1)\n",
    "        \n",
    "#         plt.imshow(images[i].numpy().astype('uint8'))\n",
    "#         plt.title(class_names[labels[i]])\n",
    "#         plt.axis('off')"
   ]
  },
  {
   "cell_type": "code",
   "execution_count": 28,
   "metadata": {},
   "outputs": [],
   "source": [
    "# # Configure the dataset for performance.\n",
    "# #\n",
    "# # https://www.tensorflow.org/tutorials/load_data/images#configure_the_dataset_for_performance\n",
    "\n",
    "# train_ds = train_ds.cache().prefetch(buffer_size=tf.data.AUTOTUNE)\n",
    "# validation_ds = validation_ds.cache().prefetch(buffer_size=tf.data.AUTOTUNE)"
   ]
  },
  {
   "cell_type": "markdown",
   "metadata": {},
   "source": [
    "**Data Augmentation**"
   ]
  },
  {
   "cell_type": "code",
   "execution_count": 53,
   "metadata": {},
   "outputs": [],
   "source": [
    "data_augmentation = []\n",
    "data_augmentation.append(layers.experimental.preprocessing.RandomFlip('horizontal',\n",
    "                                                                      input_shape=(image_height, image_width, 3)))\n",
    "data_augmentation.append(layers.experimental.preprocessing.RandomRotation(0.1))\n",
    "data_augmentation.append(layers.experimental.preprocessing.RandomZoom(0.1))"
   ]
  },
  {
   "cell_type": "markdown",
   "metadata": {},
   "source": [
    "**Build Model**"
   ]
  },
  {
   "cell_type": "code",
   "execution_count": 54,
   "metadata": {},
   "outputs": [],
   "source": [
    "model = models.Sequential()\n",
    "\n",
    "model.add(models.Sequential(data_augmentation))\n",
    "model.add(layers.experimental.preprocessing.Rescaling(1./255, input_shape=(image_height, image_width, 3)))\n",
    "\n",
    "model.add(layers.Conv2D(32, 3, activation='relu'))\n",
    "model.add(layers.MaxPooling2D(2))\n",
    "model.add(layers.Conv2D(64, 3, activation='relu'))\n",
    "model.add(layers.MaxPooling2D(2))\n",
    "model.add(layers.Conv2D(64, 3, activation='relu'))\n",
    "model.add(layers.MaxPooling2D(2))\n",
    "\n",
    "model.add(layers.Flatten())\n",
    "model.add(layers.Dropout(0.1))\n",
    "\n",
    "model.add(layers.Dense(64, activation='relu')) # Softmax could be an alternative.\n",
    "model.add(layers.Dense(len(artists)))"
   ]
  },
  {
   "cell_type": "code",
   "execution_count": null,
   "metadata": {},
   "outputs": [
    {
     "name": "stdout",
     "output_type": "stream",
     "text": [
      "Epoch 1/5\n",
      " 23/147 [===>..........................] - ETA: 10:32 - loss: 8.9394 - accuracy: 0.0196"
     ]
    }
   ],
   "source": [
    "# Compile and train the model.\n",
    "\n",
    "epochs = 50\n",
    "\n",
    "model.compile(optimizer='adam',\n",
    "              loss='categorical_crossentropy',\n",
    "              metrics=['accuracy'])\n",
    "\n",
    "history = model.fit(train_ds, validation_data=validation_ds, epochs=epochs, class_weight=class_weights.to_dict())"
   ]
  },
  {
   "cell_type": "code",
   "execution_count": 34,
   "metadata": {},
   "outputs": [
    {
     "name": "stdout",
     "output_type": "stream",
     "text": [
      "Model: \"sequential_1\"\n",
      "_________________________________________________________________\n",
      "Layer (type)                 Output Shape              Param #   \n",
      "=================================================================\n",
      "rescaling_1 (Rescaling)      (None, 256, 256, 3)       0         \n",
      "_________________________________________________________________\n",
      "conv2d_3 (Conv2D)            (None, 254, 254, 32)      896       \n",
      "_________________________________________________________________\n",
      "max_pooling2d_3 (MaxPooling2 (None, 127, 127, 32)      0         \n",
      "_________________________________________________________________\n",
      "conv2d_4 (Conv2D)            (None, 125, 125, 64)      18496     \n",
      "_________________________________________________________________\n",
      "max_pooling2d_4 (MaxPooling2 (None, 62, 62, 64)        0         \n",
      "_________________________________________________________________\n",
      "conv2d_5 (Conv2D)            (None, 60, 60, 64)        36928     \n",
      "_________________________________________________________________\n",
      "max_pooling2d_5 (MaxPooling2 (None, 30, 30, 64)        0         \n",
      "_________________________________________________________________\n",
      "flatten_1 (Flatten)          (None, 57600)             0         \n",
      "_________________________________________________________________\n",
      "dropout_1 (Dropout)          (None, 57600)             0         \n",
      "_________________________________________________________________\n",
      "dense_1 (Dense)              (None, 256)               14745856  \n",
      "_________________________________________________________________\n",
      "dense_2 (Dense)              (None, 28)                7196      \n",
      "=================================================================\n",
      "Total params: 14,809,372\n",
      "Trainable params: 14,809,372\n",
      "Non-trainable params: 0\n",
      "_________________________________________________________________\n"
     ]
    }
   ],
   "source": [
    "model.summary()"
   ]
  },
  {
   "cell_type": "markdown",
   "metadata": {},
   "source": [
    "**Visualize Results**"
   ]
  },
  {
   "cell_type": "code",
   "execution_count": null,
   "metadata": {},
   "outputs": [],
   "source": [
    "acc = history.history['accuracy']\n",
    "val_acc = history.history['val_accuracy']\n",
    "\n",
    "loss = history.history['loss']\n",
    "val_loss = history.history['val_loss']\n",
    "\n",
    "epochs_range = range(epochs)\n",
    "\n",
    "plt.figure(figsize=(12, 4))\n",
    "\n",
    "plt.subplot(1, 2, 1)\n",
    "plt.plot(epochs_range, acc, label='Training Accuracy')\n",
    "plt.plot(epochs_range, val_acc, label='Validation Accuracy')\n",
    "plt.legend(loc='lower right')\n",
    "plt.title('Training and Validation Accuracy')\n",
    "\n",
    "plt.subplot(1, 2, 2)\n",
    "plt.plot(epochs_range, loss, label='Training Loss')\n",
    "plt.plot(epochs_range, val_loss, label='Validation Loss')\n",
    "plt.legend(loc='upper right')\n",
    "plt.title('Training and Validation Loss')\n",
    "\n",
    "plt.show()"
   ]
  },
  {
   "cell_type": "code",
   "execution_count": null,
   "metadata": {},
   "outputs": [],
   "source": []
  }
 ],
 "metadata": {
  "kernelspec": {
   "display_name": "Python 3",
   "language": "python",
   "name": "python3"
  },
  "language_info": {
   "codemirror_mode": {
    "name": "ipython",
    "version": 3
   },
   "file_extension": ".py",
   "mimetype": "text/x-python",
   "name": "python",
   "nbconvert_exporter": "python",
   "pygments_lexer": "ipython3",
   "version": "3.8.5"
  }
 },
 "nbformat": 4,
 "nbformat_minor": 4
}
