{
 "cells": [
  {
   "cell_type": "markdown",
   "metadata": {},
   "source": [
    "## Identifying Artist from Art\n",
    "\n",
    "\n",
    "O objetivo principal deste trabalho é construir uma rede neural capaz de classificar o artista responsável por uma determianda obra de arte (pintura).\n",
    "\n",
    "Para isso, utilizaremos o conjunto de dados [**Best Artworks of All Time**](https://www.kaggle.com/ikarus777/best-artworks-of-all-time)."
   ]
  },
  {
   "cell_type": "code",
   "execution_count": 1,
   "metadata": {},
   "outputs": [],
   "source": [
    "import pandas as pd\n",
    "\n",
    "from identifying_artist_from_art import *"
   ]
  },
  {
   "cell_type": "markdown",
   "metadata": {},
   "source": [
    "**Passo um: análise e pré-processamento de dados**\n",
    "\n",
    "Analisando a quantidade de amostras (pinturas) por classe (artista) é possível perceber que o conjunto de dados não possui uma distribuição balanceada."
   ]
  },
  {
   "cell_type": "code",
   "execution_count": 2,
   "metadata": {},
   "outputs": [
    {
     "data": {
      "text/html": [
       "<div>\n",
       "<style scoped>\n",
       "    .dataframe tbody tr th:only-of-type {\n",
       "        vertical-align: middle;\n",
       "    }\n",
       "\n",
       "    .dataframe tbody tr th {\n",
       "        vertical-align: top;\n",
       "    }\n",
       "\n",
       "    .dataframe thead th {\n",
       "        text-align: right;\n",
       "    }\n",
       "</style>\n",
       "<table border=\"1\" class=\"dataframe\">\n",
       "  <thead>\n",
       "    <tr style=\"text-align: right;\">\n",
       "      <th></th>\n",
       "      <th>name</th>\n",
       "      <th>paintings</th>\n",
       "    </tr>\n",
       "  </thead>\n",
       "  <tbody>\n",
       "    <tr>\n",
       "      <th>0</th>\n",
       "      <td>Vincent van Gogh</td>\n",
       "      <td>877</td>\n",
       "    </tr>\n",
       "    <tr>\n",
       "      <th>1</th>\n",
       "      <td>Edgar Degas</td>\n",
       "      <td>702</td>\n",
       "    </tr>\n",
       "    <tr>\n",
       "      <th>2</th>\n",
       "      <td>Pablo Picasso</td>\n",
       "      <td>439</td>\n",
       "    </tr>\n",
       "    <tr>\n",
       "      <th>3</th>\n",
       "      <td>Pierre-Auguste Renoir</td>\n",
       "      <td>336</td>\n",
       "    </tr>\n",
       "    <tr>\n",
       "      <th>4</th>\n",
       "      <td>Albrecht Dürer</td>\n",
       "      <td>328</td>\n",
       "    </tr>\n",
       "    <tr>\n",
       "      <th>5</th>\n",
       "      <td>Paul Gauguin</td>\n",
       "      <td>311</td>\n",
       "    </tr>\n",
       "    <tr>\n",
       "      <th>6</th>\n",
       "      <td>Francisco Goya</td>\n",
       "      <td>291</td>\n",
       "    </tr>\n",
       "    <tr>\n",
       "      <th>7</th>\n",
       "      <td>Rembrandt</td>\n",
       "      <td>262</td>\n",
       "    </tr>\n",
       "    <tr>\n",
       "      <th>8</th>\n",
       "      <td>Alfred Sisley</td>\n",
       "      <td>259</td>\n",
       "    </tr>\n",
       "    <tr>\n",
       "      <th>9</th>\n",
       "      <td>Titian</td>\n",
       "      <td>255</td>\n",
       "    </tr>\n",
       "  </tbody>\n",
       "</table>\n",
       "</div>"
      ],
      "text/plain": [
       "                    name  paintings\n",
       "0       Vincent van Gogh        877\n",
       "1            Edgar Degas        702\n",
       "2          Pablo Picasso        439\n",
       "3  Pierre-Auguste Renoir        336\n",
       "4         Albrecht Dürer        328\n",
       "5           Paul Gauguin        311\n",
       "6         Francisco Goya        291\n",
       "7              Rembrandt        262\n",
       "8          Alfred Sisley        259\n",
       "9                 Titian        255"
      ]
     },
     "execution_count": 2,
     "metadata": {},
     "output_type": "execute_result"
    }
   ],
   "source": [
    "artists_df = pd.read_csv('archive/artists.csv')\n",
    "artists_df = artists_df.sort_values(by='paintings', ignore_index=True, ascending=False).filter(items=['name', 'paintings'])\n",
    "\n",
    "artists_df[:10]"
   ]
  },
  {
   "cell_type": "markdown",
   "metadata": {},
   "source": [
    "Após alguns testes utilizando o conjunto inteiro das amostras foi percebido que essa má distribuição impactava negativamente no ajuste da rede neural, e consequentemente na taxa de acurácia dos resultados. Portanto, decidimos utilizar somente as duas classes (artistas) que possuem a maior quantidade de amostras nesse conjunto de dados. Dessa forma também, o objetivo da rede se resume em uma classificação binária."
   ]
  },
  {
   "cell_type": "code",
   "execution_count": 3,
   "metadata": {},
   "outputs": [
    {
     "name": "stdout",
     "output_type": "stream",
     "text": [
      "Selected artists to binary classification: ['Vincent_van_Gogh', 'Edgar_Degas']\n"
     ]
    }
   ],
   "source": [
    "useful_artists = artists_df[:2]['name'].str.replace(' ', '_').values.tolist()\n",
    "\n",
    "print(f'Selected artists to binary classification: {useful_artists}')"
   ]
  },
  {
   "cell_type": "markdown",
   "metadata": {},
   "source": [
    "**Segundo passo: leitura e armazenamento dos dados**\n",
    "\n",
    "Mesmo filtrando as classes com o maior número de amostras, o volume delas no conjunto ainda pode causar um **underfitting** no processo de aprendizado da rede. Portanto, foram aplicadas algumas estratégias de **data augmentation** para aumentar a quantidade de dados a partir das imagens já existentes.\n",
    "\n",
    "```python\n",
    "rotation_range = 45\n",
    "width_shift_range = 0.2\n",
    "height_shift_range = 0.2\n",
    "shear_range = 0.2\n",
    "zoom_range = 0.2\n",
    "horizontal_flip = True\n",
    "vertical_flip = True\n",
    "```"
   ]
  },
  {
   "cell_type": "code",
   "execution_count": 4,
   "metadata": {},
   "outputs": [
    {
     "name": "stdout",
     "output_type": "stream",
     "text": [
      "Found 1264 images belonging to 2 classes.\n",
      "Found 315 images belonging to 2 classes.\n"
     ]
    }
   ],
   "source": [
    "params = {\n",
    "    'directory': 'archive/images/images',\n",
    "    'target_size': (256, 256),\n",
    "    'classes': useful_artists,\n",
    "    'class_mode': 'binary',\n",
    "    'batch_size': 32\n",
    "}\n",
    "\n",
    "train_ds, validation_ds = get_generators_from_dir(params, rescale=True, enable_augmentation=True)"
   ]
  },
  {
   "cell_type": "markdown",
   "metadata": {},
   "source": [
    "**Terceiro passo: construção e processamento do modelo da rede**\n",
    "\n",
    "As imagens foram convertidas para matrizes RGB/pixel e distribuídas em **batches**. Portanto, foi construída uma rede neural de três camadas convolucionais, para lidar com o processamento e a generalização em cima das imagens, e uma camada densa final (_fully connected_) para lidar com a especialização da saída da rede."
   ]
  },
  {
   "cell_type": "code",
   "execution_count": 6,
   "metadata": {},
   "outputs": [],
   "source": [
    "simple_binary_model = build_and_compile_binary_model('simple_binary_model.h5')"
   ]
  },
  {
   "cell_type": "code",
   "execution_count": 8,
   "metadata": {},
   "outputs": [
    {
     "name": "stdout",
     "output_type": "stream",
     "text": [
      "Epoch 1/10\n",
      "40/40 [==============================] - 58s 1s/step - loss: 1.5847 - accuracy: 0.5327 - val_loss: 0.6423 - val_accuracy: 0.5683\n",
      "Epoch 2/10\n",
      "40/40 [==============================] - 57s 1s/step - loss: 0.6014 - accuracy: 0.6391 - val_loss: 0.4958 - val_accuracy: 0.7492\n",
      "Epoch 3/10\n",
      "40/40 [==============================] - 56s 1s/step - loss: 0.4665 - accuracy: 0.7690 - val_loss: 0.5128 - val_accuracy: 0.7397\n",
      "Epoch 4/10\n",
      "40/40 [==============================] - 56s 1s/step - loss: 0.4384 - accuracy: 0.8095 - val_loss: 0.4835 - val_accuracy: 0.7746\n",
      "Epoch 5/10\n",
      "40/40 [==============================] - 56s 1s/step - loss: 0.4445 - accuracy: 0.8109 - val_loss: 0.4957 - val_accuracy: 0.7460\n",
      "Epoch 6/10\n",
      "40/40 [==============================] - 56s 1s/step - loss: 0.4094 - accuracy: 0.8149 - val_loss: 0.4097 - val_accuracy: 0.8190\n",
      "Epoch 7/10\n",
      "40/40 [==============================] - 56s 1s/step - loss: 0.4392 - accuracy: 0.8112 - val_loss: 0.4306 - val_accuracy: 0.8032\n",
      "Epoch 8/10\n",
      "40/40 [==============================] - 56s 1s/step - loss: 0.4185 - accuracy: 0.8188 - val_loss: 0.4501 - val_accuracy: 0.8032\n",
      "Epoch 9/10\n",
      "40/40 [==============================] - 57s 1s/step - loss: 0.3693 - accuracy: 0.8460 - val_loss: 0.4360 - val_accuracy: 0.8063\n",
      "Epoch 10/10\n",
      "40/40 [==============================] - 56s 1s/step - loss: 0.4060 - accuracy: 0.8270 - val_loss: 0.4143 - val_accuracy: 0.8127\n"
     ]
    }
   ],
   "source": [
    "history = run_model(simple_binary_model, train_ds, validation_ds, epochs=10)"
   ]
  },
  {
   "cell_type": "code",
   "execution_count": 9,
   "metadata": {},
   "outputs": [
    {
     "name": "stdout",
     "output_type": "stream",
     "text": [
      "Model: \"sequential_1\"\n",
      "_________________________________________________________________\n",
      "Layer (type)                 Output Shape              Param #   \n",
      "=================================================================\n",
      "conv2d_3 (Conv2D)            (None, None, None, 16)    448       \n",
      "_________________________________________________________________\n",
      "max_pooling2d_3 (MaxPooling2 (None, None, None, 16)    0         \n",
      "_________________________________________________________________\n",
      "conv2d_4 (Conv2D)            (None, None, None, 32)    4640      \n",
      "_________________________________________________________________\n",
      "max_pooling2d_4 (MaxPooling2 (None, None, None, 32)    0         \n",
      "_________________________________________________________________\n",
      "conv2d_5 (Conv2D)            (None, None, None, 64)    18496     \n",
      "_________________________________________________________________\n",
      "max_pooling2d_5 (MaxPooling2 (None, None, None, 64)    0         \n",
      "_________________________________________________________________\n",
      "dropout_1 (Dropout)          (None, None, None, 64)    0         \n",
      "_________________________________________________________________\n",
      "flatten_1 (Flatten)          (None, None)              0         \n",
      "_________________________________________________________________\n",
      "dense_2 (Dense)              (None, 128)               8388736   \n",
      "_________________________________________________________________\n",
      "dense_3 (Dense)              (None, 1)                 129       \n",
      "=================================================================\n",
      "Total params: 8,412,449\n",
      "Trainable params: 8,412,449\n",
      "Non-trainable params: 0\n",
      "_________________________________________________________________\n"
     ]
    }
   ],
   "source": [
    "simple_binary_model.summary()"
   ]
  },
  {
   "cell_type": "markdown",
   "metadata": {},
   "source": [
    "Devido a alta quantidade de parâmetros da rede, muito por conta do tamanho das entradas (imagens), foi introduzida uma camada de **dropout** após os processos convolucionais."
   ]
  },
  {
   "cell_type": "markdown",
   "metadata": {},
   "source": [
    "**Quarto passo: amostragem e análise dos resultados**"
   ]
  },
  {
   "cell_type": "code",
   "execution_count": 10,
   "metadata": {},
   "outputs": [
    {
     "data": {
      "image/png": "[encoded data removed]",
      "text/plain": [
       "<Figure size 864x288 with 2 Axes>"
      ]
     },
     "metadata": {
      "needs_background": "light"
     },
     "output_type": "display_data"
    }
   ],
   "source": [
    "show_model_process_results(history, epochs=10)"
   ]
  },
  {
   "cell_type": "markdown",
   "metadata": {},
   "source": [
    "Para a classificação binária entre os artistas com o maior acervo de pinturas dentro do **dataset** escolhido, a RNC (Rede Neural Convolucional) conseguiu se ajustar bem com apenas 10 épocas e apresentar uma taxa de acurácia considerável."
   ]
  }
 ],
 "metadata": {
  "kernelspec": {
   "display_name": "Python 3",
   "language": "python",
   "name": "python3"
  },
  "language_info": {
   "codemirror_mode": {
    "name": "ipython",
    "version": 3
   },
   "file_extension": ".py",
   "mimetype": "text/x-python",
   "name": "python",
   "nbconvert_exporter": "python",
   "pygments_lexer": "ipython3",
   "version": "3.8.5"
  }
 },
 "nbformat": 4,
 "nbformat_minor": 4
}
